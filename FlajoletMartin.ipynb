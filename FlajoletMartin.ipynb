Flajolet Martin Algorithm for counting Distinct Elements
In this implementation we are going to implement the FM algorithm foounting the number of unique quotes from the provided data file (memes). You have to implement the following:

First define a function to count the number of trailing zeroes in tha binary representation.

In [31]:
import mmh3
import statistics
import math
def count_trailing_zeroes(n):
  string=str(n)
  l1=len(string)
  l2=len(string.rstrip('0'))
  return l1-l2
Requirement already satisfied: mmh3 in /usr/local/lib/python3.6/dist-packages (2.5.1)
Now input the file memes.txt that is provided in the /meme directory

In [32]:
file=open('meme.txt','r')
Initialize two arrays one for storing the different hashed values (binary) and another for storing the trailing zeroes.

In [33]:
binary = ["" for i in range(10)]
trails = [[] for i in range(10)]
For every line in the file do the following:

Use murmur hash to hash the line to a binary format using 10 seeds (varying from 1 to 10)
for (s in range(10)) binary[s] = format(abs(mmh3.hash(line, seed))), '032b')
for every binary[s] call count_trailing_zeroes() to find the number of trailing zeroes and and store in trails[]
In [34]:
for line in file:
		quote = line.split("\t")
		for s in range(10):
				binary[s] = format(abs(mmh3.hash(quote[1], s)), '032b')
				trails[s].append(count_trailing_zeroes(binary[s]))
Now create two groups of hashes (5 each). In each group calculate the expected number of disctinct element using the fact that it is with high probability $2^R$

In [36]:
group1 = pow(2,max(trails[0]))+pow(2,max(trails[1]))+pow(2,max(trails[2]))+pow(2,max(trails[3]))+pow(2,max(trails[4])) 
group2 = pow(2,max(trails[5]))+pow(2,max(trails[6]))+pow(2,max(trails[7]))+pow(2,max(trails[8]))+pow(2,max(trails[9]))
Take median of the averages of group wise results and show result

In [37]:
list=[group1/5,group2/5]
print("Median:")
print (statistics.median(list))
Median:
583270.4
