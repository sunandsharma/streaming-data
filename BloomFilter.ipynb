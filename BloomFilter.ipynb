
Bloom Filter
The Bloom Filtering is a technique that is popularly used for setting a filter on a stream so that only the items that have been already seen before. So it allows all stream elements whose keys are in a stream $S$ while rejecting most of the stream elements whose keys are not in $S$.

First define some helper methdos that can help in the implementation.

In [1]:
# We will use the bitarray library for defining the hash table
import numpy as np
from bitarray import bitarray
import random
import hashlib
import math
import random
Collecting bitarray
  Downloading https://files.pythonhosted.org/packages/79/e8/7c8fafd17338bd2efdde30376903d13859bfecc24d564a5c1538b3a09338/bitarray-1.6.1.tar.gz (55kB)
     |████████████████████████████████| 61kB 5.1MB/s 
Building wheels for collected packages: bitarray
  Building wheel for bitarray (setup.py) ... done
  Created wheel for bitarray: filename=bitarray-1.6.1-cp36-cp36m-linux_x86_64.whl size=111969 sha256=46c66d752d1e759075c0217916cfa599252111430ec0dd0286f152c7d355ad8e
  Stored in directory: /root/.cache/pip/wheels/9a/aa/60/bc6e8aa0406e979931b75cfec65be58d051d2122d05efb4c65
Successfully built bitarray
Installing collected packages: bitarray
Successfully installed bitarray-1.6.1
In [11]:
# ca and cb are hash function co-efficients
# val is the value to be hashed
# p is the current size of the hash table (the mod part, find a large prime number for this that is >p)

"""def hashFunc1(ca, cb, val, p):
  h=hashlib.md5(val)
  return  ((ca*hash(h.digest().encode('base64')[:6]))+cb)%p
def hashFunc2(ca, cb, val, p):
  h=hashlib.sha256(val)
  return  ((ca*hash(h.digest().encode('base64')[:6]))+cb)%p""" 
def hashFunc(ca, cb, val, p):
  return (ca*val+cb)%p
In [12]:
# Now set to 1 in the bitarray b from hashFunc()

def updateFilter(pos, b) : b[pos] = 1
You all are aware of the probability relationship in Bom Filters which can be given by:

$P = (1 - (1-\frac{1}{n})^{km})^k$

where n is the size of the bit-array and there are m items to be filtered.

In the following function set the size of the hash table (prime) which can be found out by using the formula derived from the above one as:

$n = -\frac{m\ln P}{(ln 2)^2}$

Additionally the number of hash functions can be computed as :

$k = \frac{n}{m} ln2$

In [13]:
# set the size of the hash table (which is a bitarray)
p = 5000
from bitarray import bitarray
b=bitarray(p)
for i in b:
  b[i]=0
In [14]:
# now generate k hash functions using random integers for ca and cb and maximum size p
def generateHashFunc(val):
  for i in range(k):
    ca=random.randint(0,10)
    cb=random.randint(0,10)
    pos=hashFunc(ca,cb,val,p)
    updateFilter(pos,b)
Now input the data list (of emails from /email directory)

In [15]:
train_email=[]
m=0
file=open("train.csv","r")
for line in file:
  train_email.append(line)
  m+=1
k=(p/m)*np.log(2)  
k=(int)(math.ceil(k))
print(k)
2
For each of the emails, find the unicode sum for all of it's characters using ord() function

In [16]:
unicodes=[]
for email in train_email:
  sum=0
  for c in email:
    sum+=ord(c)
  unicodes.append(sum)
Use the unicode sums as the val in hashFunc() to hash each email

In [17]:
for i in range(len(unicodes)):
  generateHashFunc(unicodes[i])
Now input the test data and for every data, write the following check() function where it will go over the k hash functions and see if the email has been seen or not. If any of the bit is the bitarray is false, then the email does not exist else there is a probability P that it exists.

In [18]:
def check(item):
  for i in range(k):
    ca=random.randint(0,10)
    cb=random.randint(0,10)
    pos=hashFunc(ca,cb,item,p)
    if(b[pos]==0):
      return 0
  return 1
For the test data, show what is the value of P, what is size of bit-array, and how many are definietly not present, how many are probably present, and how many false positives are there in the bit array.

In [19]:
test_email=[]
false_positives=0
m=0
file=open("test.csv","r")
for line in file:
  test_email.append(line)
  m+=1
for email in test_email:
  sum=0
  for c in email:
    sum+=ord(c)
  flag=check(sum)
  if flag==0:
    print("Not in Bloom filter")
  else:
    prob = (1.0 - ((1.0 - 1.0/m)**(k*p))) ** k
    print("Might be in Bloom Filter with false positive probability "+str(prob))
    if email not in train_email:
      false_positives+=1   
print("Number of false positives")
print(false_positives)
Not in Bloom filter
Might be in Bloom Filter with false positive probability 0.9999999959594279
Not in Bloom filter
Might be in Bloom Filter with false positive probability 0.9999999959594279
Not in Bloom filter
Not in Bloom filter
Might be in Bloom Filter with false positive probability 0.9999999959594279
Might be in Bloom Filter with false positive probability 0.9999999959594279
Might be in Bloom Filter with false positive probability 0.9999999959594279
Not in Bloom filter
Not in Bloom filter
Not in Bloom filter
Not in Bloom filter
Might be in Bloom Filter with false positive probability 0.9999999959594279
Not in Bloom filter
Might be in Bloom Filter with false positive probability 0.9999999959594279
Not in Bloom filter
Not in Bloom filter
Not in Bloom filter
Might be in Bloom Filter with false positive probability 0.9999999959594279
Not in Bloom filter
Not in Bloom filter
Not in Bloom filter
Might be in Bloom Filter with false positive probability 0.9999999959594279
Not in Bloom filter
Not in Bloom filter
Might be in Bloom Filter with false positive probability 0.9999999959594279
Might be in Bloom Filter with false positive probability 0.9999999959594279
Might be in Bloom Filter with false positive probability 0.9999999959594279
Not in Bloom filter
Not in Bloom filter
Might be in Bloom Filter with false positive probability 0.9999999959594279
Not in Bloom filter
Not in Bloom filter
Not in Bloom filter
Not in Bloom filter
Not in Bloom filter
Not in Bloom filter
Not in Bloom filter
Might be in Bloom Filter with false positive probability 0.9999999959594279
Might be in Bloom Filter with false positive probability 0.9999999959594279
Might be in Bloom Filter with false positive probability 0.9999999959594279
Not in Bloom filter
Not in Bloom filter
Not in Bloom filter
Not in Bloom filter
Might be in Bloom Filter with false positive probability 0.9999999959594279
Not in Bloom filter
Might be in Bloom Filter with false positive probability 0.9999999959594279
Might be in Bloom Filter with false positive probability 0.9999999959594279
Not in Bloom filter
Not in Bloom filter
Might be in Bloom Filter with false positive probability 0.9999999959594279
Not in Bloom filter
Might be in Bloom Filter with false positive probability 0.9999999959594279
Not in Bloom filter
Might be in Bloom Filter with false positive probability 0.9999999959594279
Not in Bloom filter
Might be in Bloom Filter with false positive probability 0.9999999959594279
Not in Bloom filter
Might be in Bloom Filter with false positive probability 0.9999999959594279
Might be in Bloom Filter with false positive probability 0.9999999959594279
Might be in Bloom Filter with false positive probability 0.9999999959594279
Not in Bloom filter
Might be in Bloom Filter with false positive probability 0.9999999959594279
Not in Bloom filter
Might be in Bloom Filter with false positive probability 0.9999999959594279
Might be in Bloom Filter with false positive probability 0.9999999959594279
Might be in Bloom Filter with false positive probability 0.9999999959594279
Not in Bloom filter
Not in Bloom filter
Might be in Bloom Filter with false positive probability 0.9999999959594279
Might be in Bloom Filter with false positive probability 0.9999999959594279
Not in Bloom filter
Not in Bloom filter
Might be in Bloom Filter with false positive probability 0.9999999959594279
Not in Bloom filter
Not in Bloom filter
Might be in Bloom Filter with false positive probability 0.9999999959594279
Not in Bloom filter
Not in Bloom filter
Might be in Bloom Filter with false positive probability 0.9999999959594279
Not in Bloom filter
Might be in Bloom Filter with false positive probability 0.9999999959594279
Might be in Bloom Filter with false positive probability 0.9999999959594279
Might be in Bloom Filter with false positive probability 0.9999999959594279
Might be in Bloom Filter with false positive probability 0.9999999959594279
Not in Bloom filter
Might be in Bloom Filter with false positive probability 0.9999999959594279
Not in Bloom filter
Not in Bloom filter
Not in Bloom filter
Not in Bloom filter
Not in Bloom filter
Not in Bloom filter
Not in Bloom filter
Might be in Bloom Filter with false positive probability 0.9999999959594279
Not in Bloom filter
Might be in Bloom Filter with false positive probability 0.9999999959594279
Might be in Bloom Filter with false positive probability 0.9999999959594279
Not in Bloom filter
Might be in Bloom Filter with false positive probability 0.9999999959594279
Not in Bloom filter
Not in Bloom filter
Not in Bloom filter
Might be in Bloom Filter with false positive probability 0.9999999959594279
Might be in Bloom Filter with false positive probability 0.9999999959594279
Not in Bloom filter
Not in Bloom filter
Might be in Bloom Filter with false positive probability 0.9999999959594279
Not in Bloom filter
Not in Bloom filter
Not in Bloom filter
Might be in Bloom Filter with false positive probability 0.9999999959594279
Not in Bloom filter
Not in Bloom filter
Might be in Bloom Filter with false positive probability 0.9999999959594279
Not in Bloom filter
Not in Bloom filter
Not in Bloom filter
Might be in Bloom Filter with false positive probability 0.9999999959594279
Might be in Bloom Filter with false positive probability 0.9999999959594279
Might be in Bloom Filter with false positive probability 0.9999999959594279
Might be in Bloom Filter with false positive probability 0.9999999959594279
Not in Bloom filter
Might be in Bloom Filter with false positive probability 0.9999999959594279
Might be in Bloom Filter with false positive probability 0.9999999959594279
Not in Bloom filter
Not in Bloom filter
Not in Bloom filter
Not in Bloom filter
Not in Bloom filter
Not in Bloom filter
Not in Bloom filter
Not in Bloom filter
Not in Bloom filter
Not in Bloom filter
Might be in Bloom Filter with false positive probability 0.9999999959594279
Not in Bloom filter
Might be in Bloom Filter with false positive probability 0.9999999959594279
Might be in Bloom Filter with false positive probability 0.9999999959594279
Not in Bloom filter
Might be in Bloom Filter with false positive probability 0.9999999959594279
Not in Bloom filter
Not in Bloom filter
Not in Bloom filter
Not in Bloom filter
Not in Bloom filter
Not in Bloom filter
Might be in Bloom Filter with false positive probability 0.9999999959594279
Not in Bloom filter
Not in Bloom filter
Might be in Bloom Filter with false positive probability 0.9999999959594279
Might be in Bloom Filter with false positive probability 0.9999999959594279
Might be in Bloom Filter with false positive probability 0.9999999959594279
Not in Bloom filter
Not in Bloom filter
Not in Bloom filter
Might be in Bloom Filter with false positive probability 0.9999999959594279
Might be in Bloom Filter with false positive probability 0.9999999959594279
Not in Bloom filter
Not in Bloom filter
Not in Bloom filter
Might be in Bloom Filter with false positive probability 0.9999999959594279
Not in Bloom filter
Might be in Bloom Filter with false positive probability 0.9999999959594279
Might be in Bloom Filter with false positive probability 0.9999999959594279
Not in Bloom filter
Might be in Bloom Filter with false positive probability 0.9999999959594279
Not in Bloom filter
Might be in Bloom Filter with false positive probability 0.9999999959594279
Not in Bloom filter
Not in Bloom filter
Might be in Bloom Filter with false positive probability 0.9999999959594279
Not in Bloom filter
Not in Bloom filter
Not in Bloom filter
Might be in Bloom Filter with false positive probability 0.9999999959594279
Not in Bloom filter
Not in Bloom filter
Not in Bloom filter
Not in Bloom filter
Might be in Bloom Filter with false positive probability 0.9999999959594279
Not in Bloom filter
Not in Bloom filter
Might be in Bloom Filter with false positive probability 0.9999999959594279
Not in Bloom filter
Not in Bloom filter
Might be in Bloom Filter with false positive probability 0.9999999959594279
Not in Bloom filter
Not in Bloom filter
Might be in Bloom Filter with false positive probability 0.9999999959594279
Not in Bloom filter
Not in Bloom filter
Not in Bloom filter
Might be in Bloom Filter with false positive probability 0.9999999959594279
Not in Bloom filter
Might be in Bloom Filter with false positive probability 0.9999999959594279
Not in Bloom filter
Not in Bloom filter
Not in Bloom filter
Not in Bloom filter
Not in Bloom filter
Might be in Bloom Filter with false positive probability 0.9999999959594279
Not in Bloom filter
Not in Bloom filter
Not in Bloom filter
Not in Bloom filter
Might be in Bloom Filter with false positive probability 0.9999999959594279
Might be in Bloom Filter with false positive probability 0.9999999959594279
Not in Bloom filter
Not in Bloom filter
Might be in Bloom Filter with false positive probability 0.9999999959594279
Not in Bloom filter
Not in Bloom filter
Not in Bloom filter
Might be in Bloom Filter with false positive probability 0.9999999959594279
Not in Bloom filter
Might be in Bloom Filter with false positive probability 0.9999999959594279
Not in Bloom filter
Not in Bloom filter
Not in Bloom filter
Not in Bloom filter
Might be in Bloom Filter with false positive probability 0.9999999959594279
Not in Bloom filter
Not in Bloom filter
Not in Bloom filter
Not in Bloom filter
Might be in Bloom Filter with false positive probability 0.9999999959594279
Not in Bloom filter
Not in Bloom filter
Not in Bloom filter
Might be in Bloom Filter with false positive probability 0.9999999959594279
Might be in Bloom Filter with false positive probability 0.9999999959594279
Not in Bloom filter
Not in Bloom filter
Might be in Bloom Filter with false positive probability 0.9999999959594279
Not in Bloom filter
Might be in Bloom Filter with false positive probability 0.9999999959594279
Not in Bloom filter
Might be in Bloom Filter with false positive probability 0.9999999959594279
Not in Bloom filter
Might be in Bloom Filter with false positive probability 0.9999999959594279
Might be in Bloom Filter with false positive probability 0.9999999959594279
Might be in Bloom Filter with false positive probability 0.9999999959594279
Not in Bloom filter
Not in Bloom filter
Not in Bloom filter
Might be in Bloom Filter with false positive probability 0.9999999959594279
Might be in Bloom Filter with false positive probability 0.9999999959594279
Not in Bloom filter
Might be in Bloom Filter with false positive probability 0.9999999959594279
Might be in Bloom Filter with false positive probability 0.9999999959594279
Might be in Bloom Filter with false positive probability 0.9999999959594279
Not in Bloom filter
Not in Bloom filter
Not in Bloom filter
Might be in Bloom Filter with false positive probability 0.9999999959594279
Not in Bloom filter
Not in Bloom filter
Might be in Bloom Filter with false positive probability 0.9999999959594279
Not in Bloom filter
Not in Bloom filter
Not in Bloom filter
Not in Bloom filter
Might be in Bloom Filter with false positive probability 0.9999999959594279
Not in Bloom filter
Not in Bloom filter
Not in Bloom filter
Might be in Bloom Filter with false positive probability 0.9999999959594279
Might be in Bloom Filter with false positive probability 0.9999999959594279
Might be in Bloom Filter with false positive probability 0.9999999959594279
Not in Bloom filter
Might be in Bloom Filter with false positive probability 0.9999999959594279
Might be in Bloom Filter with false positive probability 0.9999999959594279
Not in Bloom filter
Not in Bloom filter
Might be in Bloom Filter with false positive probability 0.9999999959594279
Might be in Bloom Filter with false positive probability 0.9999999959594279
Not in Bloom filter
Might be in Bloom Filter with false positive probability 0.9999999959594279
Not in Bloom filter
Not in Bloom filter
Might be in Bloom Filter with false positive probability 0.9999999959594279
Not in Bloom filter
Not in Bloom filter
Not in Bloom filter
Might be in Bloom Filter with false positive probability 0.9999999959594279
Not in Bloom filter
Not in Bloom filter
Might be in Bloom Filter with false positive probability 0.9999999959594279
Not in Bloom filter
Not in Bloom filter
Not in Bloom filter
Not in Bloom filter
Might be in Bloom Filter with false positive probability 0.9999999959594279
Not in Bloom filter
Might be in Bloom Filter with false positive probability 0.9999999959594279
Might be in Bloom Filter with false positive probability 0.9999999959594279
Not in Bloom filter
Not in Bloom filter
Not in Bloom filter
Not in Bloom filter
Might be in Bloom Filter with false positive probability 0.9999999959594279
Might be in Bloom Filter with false positive probability 0.9999999959594279
Not in Bloom filter
Not in Bloom filter
Might be in Bloom Filter with false positive probability 0.9999999959594279
Not in Bloom filter
Might be in Bloom Filter with false positive probability 0.9999999959594279
Not in Bloom filter
Might be in Bloom Filter with false positive probability 0.9999999959594279
Not in Bloom filter
Might be in Bloom Filter with false positive probability 0.9999999959594279
Might be in Bloom Filter with false positive probability 0.9999999959594279
Not in Bloom filter
Might be in Bloom Filter with false positive probability 0.9999999959594279
Not in Bloom filter
Might be in Bloom Filter with false positive probability 0.9999999959594279
Not in Bloom filter
Not in Bloom filter
Might be in Bloom Filter with false positive probability 0.9999999959594279
Might be in Bloom Filter with false positive probability 0.9999999959594279
Not in Bloom filter
Might be in Bloom Filter with false positive probability 0.9999999959594279
Not in Bloom filter
Not in Bloom filter
Not in Bloom filter
Might be in Bloom Filter with false positive probability 0.9999999959594279
Might be in Bloom Filter with false positive probability 0.9999999959594279
Might be in Bloom Filter with false positive probability 0.9999999959594279
Might be in Bloom Filter with false positive probability 0.9999999959594279
Might be in Bloom Filter with false positive probability 0.9999999959594279
Might be in Bloom Filter with false positive probability 0.9999999959594279
Not in Bloom filter
Not in Bloom filter
Not in Bloom filter
Might be in Bloom Filter with false positive probability 0.9999999959594279
Might be in Bloom Filter with false positive probability 0.9999999959594279
Might be in Bloom Filter with false positive probability 0.9999999959594279
Not in Bloom filter
Not in Bloom filter
Might be in Bloom Filter with false positive probability 0.9999999959594279
Might be in Bloom Filter with false positive probability 0.9999999959594279
Not in Bloom filter
Not in Bloom filter
Might be in Bloom Filter with false positive probability 0.9999999959594279
Not in Bloom filter
Not in Bloom filter
Not in Bloom filter
Not in Bloom filter
Might be in Bloom Filter with false positive probability 0.9999999959594279
Not in Bloom filter
Not in Bloom filter
Might be in Bloom Filter with false positive probability 0.9999999959594279
Might be in Bloom Filter with false positive probability 0.9999999959594279
Not in Bloom filter
Might be in Bloom Filter with false positive probability 0.9999999959594279
Not in Bloom filter
Not in Bloom filter
Might be in Bloom Filter with false positive probability 0.9999999959594279
Not in Bloom filter
Might be in Bloom Filter with false positive probability 0.9999999959594279
Not in Bloom filter
Not in Bloom filter
Not in Bloom filter
Might be in Bloom Filter with false positive probability 0.9999999959594279
Not in Bloom filter
Might be in Bloom Filter with false positive probability 0.9999999959594279
Not in Bloom filter
Might be in Bloom Filter with false positive probability 0.9999999959594279
Not in Bloom filter
Not in Bloom filter
Not in Bloom filter
Might be in Bloom Filter with false positive probability 0.9999999959594279
Not in Bloom filter
Not in Bloom filter
Might be in Bloom Filter with false positive probability 0.9999999959594279
Not in Bloom filter
Not in Bloom filter
Might be in Bloom Filter with false positive probability 0.9999999959594279
Not in Bloom filter
Not in Bloom filter
Might be in Bloom Filter with false positive probability 0.9999999959594279
Might be in Bloom Filter with false positive probability 0.9999999959594279
Might be in Bloom Filter with false positive probability 0.9999999959594279
Not in Bloom filter
Might be in Bloom Filter with false positive probability 0.9999999959594279
Might be in Bloom Filter with false positive probability 0.9999999959594279
Not in Bloom filter
Might be in Bloom Filter with false positive probability 0.9999999959594279
Not in Bloom filter
Not in Bloom filter
Not in Bloom filter
Might be in Bloom Filter with false positive probability 0.9999999959594279
Might be in Bloom Filter with false positive probability 0.9999999959594279
Not in Bloom filter
Might be in Bloom Filter with false positive probability 0.9999999959594279
Not in Bloom filter
Might be in Bloom Filter with false positive probability 0.9999999959594279
Not in Bloom filter
Not in Bloom filter
Might be in Bloom Filter with false positive probability 0.9999999959594279
Might be in Bloom Filter with false positive probability 0.9999999959594279
Not in Bloom filter
Not in Bloom filter
Not in Bloom filter
Might be in Bloom Filter with false positive probability 0.9999999959594279
Not in Bloom filter
Might be in Bloom Filter with false positive probability 0.9999999959594279
Not in Bloom filter
Might be in Bloom Filter with false positive probability 0.9999999959594279
Not in Bloom filter
Might be in Bloom Filter with false positive probability 0.9999999959594279
Not in Bloom filter
Not in Bloom filter
Not in Bloom filter
Not in Bloom filter
Might be in Bloom Filter with false positive probability 0.9999999959594279
Not in Bloom filter
Not in Bloom filter
Not in Bloom filter
Not in Bloom filter
Might be in Bloom Filter with false positive probability 0.9999999959594279
Not in Bloom filter
Not in Bloom filter
Not in Bloom filter
Might be in Bloom Filter with false positive probability 0.9999999959594279
Not in Bloom filter
Might be in Bloom Filter with false positive probability 0.9999999959594279
Not in Bloom filter
Not in Bloom filter
Not in Bloom filter
Not in Bloom filter
Might be in Bloom Filter with false positive probability 0.9999999959594279
Not in Bloom filter
Might be in Bloom Filter with false positive probability 0.9999999959594279
Not in Bloom filter
Not in Bloom filter
Not in Bloom filter
Not in Bloom filter
Might be in Bloom Filter with false positive probability 0.9999999959594279
Not in Bloom filter
Not in Bloom filter
Might be in Bloom Filter with false positive probability 0.9999999959594279
Not in Bloom filter
Might be in Bloom Filter with false positive probability 0.9999999959594279
Not in Bloom filter
Not in Bloom filter
Not in Bloom filter
Might be in Bloom Filter with false positive probability 0.9999999959594279
Not in Bloom filter
Not in Bloom filter
Not in Bloom filter
Might be in Bloom Filter with false positive probability 0.9999999959594279
Might be in Bloom Filter with false positive probability 0.9999999959594279
Not in Bloom filter
Not in Bloom filter
Not in Bloom filter
Not in Bloom filter
Might be in Bloom Filter with false positive probability 0.9999999959594279
Not in Bloom filter
Might be in Bloom Filter with false positive probability 0.9999999959594279
Not in Bloom filter
Not in Bloom filter
Not in Bloom filter
Not in Bloom filter
Not in Bloom filter
Might be in Bloom Filter with false positive probability 0.9999999959594279
Not in Bloom filter
Not in Bloom filter
Not in Bloom filter
Might be in Bloom Filter with false positive probability 0.9999999959594279
Might be in Bloom Filter with false positive probability 0.9999999959594279
Not in Bloom filter
Not in Bloom filter
Not in Bloom filter
Not in Bloom filter
Might be in Bloom Filter with false positive probability 0.9999999959594279
Not in Bloom filter
Not in Bloom filter
Might be in Bloom Filter with false positive probability 0.9999999959594279
Might be in Bloom Filter with false positive probability 0.9999999959594279
Not in Bloom filter
Not in Bloom filter
Not in Bloom filter
Might be in Bloom Filter with false positive probability 0.9999999959594279
Not in Bloom filter
Might be in Bloom Filter with false positive probability 0.9999999959594279
Might be in Bloom Filter with false positive probability 0.9999999959594279
Not in Bloom filter
Not in Bloom filter
Might be in Bloom Filter with false positive probability 0.9999999959594279
Not in Bloom filter
Not in Bloom filter
Not in Bloom filter
Not in Bloom filter
Not in Bloom filter
Might be in Bloom Filter with false positive probability 0.9999999959594279
Might be in Bloom Filter with false positive probability 0.9999999959594279
Number of false positives
0
